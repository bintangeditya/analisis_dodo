{
 "cells": [
  {
   "cell_type": "code",
   "execution_count": 8,
   "metadata": {},
   "outputs": [],
   "source": [
    "import pandas as pd\n",
    "import numpy as np"
   ]
  },
  {
   "cell_type": "code",
   "execution_count": 14,
   "metadata": {},
   "outputs": [
    {
     "data": {
      "text/html": [
       "<div>\n",
       "<style scoped>\n",
       "    .dataframe tbody tr th:only-of-type {\n",
       "        vertical-align: middle;\n",
       "    }\n",
       "\n",
       "    .dataframe tbody tr th {\n",
       "        vertical-align: top;\n",
       "    }\n",
       "\n",
       "    .dataframe thead th {\n",
       "        text-align: right;\n",
       "    }\n",
       "</style>\n",
       "<table border=\"1\" class=\"dataframe\">\n",
       "  <thead>\n",
       "    <tr style=\"text-align: right;\">\n",
       "      <th></th>\n",
       "      <th>url</th>\n",
       "      <th>description</th>\n",
       "      <th>title</th>\n",
       "      <th>url_file_type</th>\n",
       "    </tr>\n",
       "  </thead>\n",
       "  <tbody>\n",
       "    <tr>\n",
       "      <th>0</th>\n",
       "      <td>https://edge.activity.windows.com/v1/feeds/me/...</td>\n",
       "      <td>error</td>\n",
       "      <td>error</td>\n",
       "      <td>[ERROR] HTTP Error 401: Unauthorized</td>\n",
       "    </tr>\n",
       "    <tr>\n",
       "      <th>1</th>\n",
       "      <td>https://functional.events.data.microsoft.com/O...</td>\n",
       "      <td>error</td>\n",
       "      <td>error</td>\n",
       "      <td>[ERROR] HTTP Error 405: Method Not Allowed</td>\n",
       "    </tr>\n",
       "    <tr>\n",
       "      <th>2</th>\n",
       "      <td>https://www.omgubuntu.co.uk/tag/appupdates</td>\n",
       "      <td>Here are the latest batch of Linux app updates...</td>\n",
       "      <td>App Updates Archives - OMG! Ubuntu!</td>\n",
       "      <td>text/html</td>\n",
       "    </tr>\n",
       "    <tr>\n",
       "      <th>3</th>\n",
       "      <td>https://www.omgubuntu.co.uk/2021/12/audacity-g...</td>\n",
       "      <td>Big performance improvements are on offer in t...</td>\n",
       "      <td>Audacity Delivers an Early Xmas Present: 50x F...</td>\n",
       "      <td>text/html</td>\n",
       "    </tr>\n",
       "    <tr>\n",
       "      <th>4</th>\n",
       "      <td>https://secure.gravatar.com/avatar/26230340323...</td>\n",
       "      <td>error</td>\n",
       "      <td>error</td>\n",
       "      <td>image/jpeg</td>\n",
       "    </tr>\n",
       "  </tbody>\n",
       "</table>\n",
       "</div>"
      ],
      "text/plain": [
       "                                                 url  \\\n",
       "0  https://edge.activity.windows.com/v1/feeds/me/...   \n",
       "1  https://functional.events.data.microsoft.com/O...   \n",
       "2         https://www.omgubuntu.co.uk/tag/appupdates   \n",
       "3  https://www.omgubuntu.co.uk/2021/12/audacity-g...   \n",
       "4  https://secure.gravatar.com/avatar/26230340323...   \n",
       "\n",
       "                                         description  \\\n",
       "0                                              error   \n",
       "1                                              error   \n",
       "2  Here are the latest batch of Linux app updates...   \n",
       "3  Big performance improvements are on offer in t...   \n",
       "4                                              error   \n",
       "\n",
       "                                               title  \\\n",
       "0                                              error   \n",
       "1                                              error   \n",
       "2                App Updates Archives - OMG! Ubuntu!   \n",
       "3  Audacity Delivers an Early Xmas Present: 50x F...   \n",
       "4                                              error   \n",
       "\n",
       "                                url_file_type  \n",
       "0        [ERROR] HTTP Error 401: Unauthorized  \n",
       "1  [ERROR] HTTP Error 405: Method Not Allowed  \n",
       "2                                   text/html  \n",
       "3                                   text/html  \n",
       "4                                  image/jpeg  "
      ]
     },
     "execution_count": 14,
     "metadata": {},
     "output_type": "execute_result"
    }
   ],
   "source": [
    "path = 'data\\2_data_addition_scrapping\\sistem_dodo/'\n",
    "path_save = 'data\\3_data_cleaning\\sistem_dodo/'\n",
    "\n",
    "file_name = 'p2_sistem_dodo_b0_c00.csv'\n",
    "\n",
    "df = pd.read_csv(path+file_name, index_col=0)\n",
    "df.head()"
   ]
  },
  {
   "cell_type": "code",
   "execution_count": 11,
   "metadata": {},
   "outputs": [],
   "source": [
    "def preview_av2(df, column_names,show_columns):\n",
    "    subset = np.full(len(df), True)\n",
    "    for c in column_names:\n",
    "        subset = (subset & (df[c] != 'error') & (df[c] != '')  & (df[c] != 'error_null') & (df[c].values != None ) & (pd.notna(df[c])))\n",
    "    return df[subset][show_columns]"
   ]
  },
  {
   "cell_type": "code",
   "execution_count": 12,
   "metadata": {},
   "outputs": [],
   "source": [
    "df_nonnull = preview_av2(df,['description','title'], df.columns)"
   ]
  },
  {
   "cell_type": "code",
   "execution_count": 15,
   "metadata": {},
   "outputs": [],
   "source": [
    "file_name_new = 'p3_sistem_dodo_b0_c00.csv'\n",
    "df_nonnull.to_csv(path_save+file_name_new)"
   ]
  },
  {
   "cell_type": "code",
   "execution_count": null,
   "metadata": {},
   "outputs": [],
   "source": []
  }
 ],
 "metadata": {
  "kernelspec": {
   "display_name": "Python 3.8.5 ('base')",
   "language": "python",
   "name": "python3"
  },
  "language_info": {
   "codemirror_mode": {
    "name": "ipython",
    "version": 3
   },
   "file_extension": ".py",
   "mimetype": "text/x-python",
   "name": "python",
   "nbconvert_exporter": "python",
   "pygments_lexer": "ipython3",
   "version": "3.8.5"
  },
  "orig_nbformat": 4,
  "vscode": {
   "interpreter": {
    "hash": "343f3d274de0554954cf955edb183fdc0cc62c5d26a777b2092a313e42e0680b"
   }
  }
 },
 "nbformat": 4,
 "nbformat_minor": 2
}
