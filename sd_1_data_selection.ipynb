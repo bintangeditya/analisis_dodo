{
 "cells": [
  {
   "cell_type": "code",
   "execution_count": 3,
   "metadata": {},
   "outputs": [],
   "source": [
    "import pandas as pd\n",
    "import numpy as np\n",
    "import re\n",
    "import numpy as np\n",
    "from os import walk"
   ]
  },
  {
   "cell_type": "code",
   "execution_count": 40,
   "metadata": {},
   "outputs": [
    {
     "data": {
      "text/plain": [
       "array(['log_2022-01-03.txt', 'log_2022-01-04.txt', 'log_2022-01-05.txt',\n",
       "       'log_2022-01-06.txt', 'log_2022-01-07.txt', 'log_2022-01-08.txt',\n",
       "       'log_2022-01-09.txt', 'log_2022-01-10.txt', 'log_2022-01-11.txt',\n",
       "       'log_2022-01-12.txt'], dtype='<U18')"
      ]
     },
     "execution_count": 40,
     "metadata": {},
     "output_type": "execute_result"
    }
   ],
   "source": [
    "# read data file txt\n",
    "path_txt = 'data\\0_data_sistem_dodo'\n",
    "# pattern = re.compile(r'(\\.txt)')\n",
    "filenames_txt = np.array(next(walk(path_txt), (None, None, []))[2])  # [] if no file\n",
    "filenames_txt = filenames_txt[[re.search(r'.txt',i) != None for i in filenames_txt ]]\n",
    "filenames_txt"
   ]
  },
  {
   "cell_type": "code",
   "execution_count": 41,
   "metadata": {},
   "outputs": [],
   "source": [
    "# preprocessing\n",
    "def remove_duplicate(lines):\n",
    "    return list(dict.fromkeys(lines))"
   ]
  },
  {
   "cell_type": "code",
   "execution_count": 44,
   "metadata": {},
   "outputs": [],
   "source": [
    "# preprocessing\n",
    "def remove_backslash_n(url):\n",
    "    return re.sub(\"\\\\n$\",\"\",url)"
   ]
  },
  {
   "cell_type": "code",
   "execution_count": 45,
   "metadata": {},
   "outputs": [],
   "source": [
    "# read data from txt to df : remove_duplicate, remove_backslash_n\n",
    "list_count_data_txt = []\n",
    "list_count_data_df = []\n",
    "\n",
    "def txt_to_df(uri):\n",
    "    reader = open(uri, 'r')\n",
    "    websites_url = reader.readlines()\n",
    "    reader.close()\n",
    "    list_count_data_txt.append(len(websites_url))\n",
    "    # print(\"before : {}\".format(len(websites_url)))\n",
    "    websites_url = remove_duplicate(websites_url)\n",
    "    list_count_data_df.append(len(websites_url))\n",
    "    # print(\"after : {}\".format(len(websites_url)))\n",
    "    df_websites_url = pd.DataFrame({'url':websites_url})\n",
    "    df_websites_url['url'] = df_websites_url['url'].apply(remove_backslash_n)\n",
    "    return df_websites_url"
   ]
  },
  {
   "cell_type": "code",
   "execution_count": 46,
   "metadata": {},
   "outputs": [],
   "source": [
    "for f in filenames_txt:\n",
    "    df_f = txt_to_df(path_txt+f)\n",
    "    df_f.to_csv('data\\1_data_selection/p1_{}'.format(f.replace('.txt','.csv')))"
   ]
  },
  {
   "cell_type": "code",
   "execution_count": 56,
   "metadata": {},
   "outputs": [
    {
     "name": "stdout",
     "output_type": "stream",
     "text": [
      "sum list_count_data_txt = 4691495\n",
      "sum list_count_data_df = 819517\n"
     ]
    }
   ],
   "source": [
    "print(\"sum list_count_data_txt = \"+ str(sum(list_count_data_txt)))\n",
    "print(\"sum list_count_data_df = \"+ str(sum(list_count_data_df)))"
   ]
  },
  {
   "cell_type": "code",
   "execution_count": 47,
   "metadata": {},
   "outputs": [
    {
     "data": {
      "text/html": [
       "<div>\n",
       "<style scoped>\n",
       "    .dataframe tbody tr th:only-of-type {\n",
       "        vertical-align: middle;\n",
       "    }\n",
       "\n",
       "    .dataframe tbody tr th {\n",
       "        vertical-align: top;\n",
       "    }\n",
       "\n",
       "    .dataframe thead th {\n",
       "        text-align: right;\n",
       "    }\n",
       "</style>\n",
       "<table border=\"1\" class=\"dataframe\">\n",
       "  <thead>\n",
       "    <tr style=\"text-align: right;\">\n",
       "      <th></th>\n",
       "      <th>file_name</th>\n",
       "      <th>count</th>\n",
       "      <th>remove_duplicate</th>\n",
       "    </tr>\n",
       "  </thead>\n",
       "  <tbody>\n",
       "    <tr>\n",
       "      <th>0</th>\n",
       "      <td>log_2022-01-03.txt</td>\n",
       "      <td>125174</td>\n",
       "      <td>27675</td>\n",
       "    </tr>\n",
       "    <tr>\n",
       "      <th>1</th>\n",
       "      <td>log_2022-01-04.txt</td>\n",
       "      <td>632100</td>\n",
       "      <td>182398</td>\n",
       "    </tr>\n",
       "    <tr>\n",
       "      <th>2</th>\n",
       "      <td>log_2022-01-05.txt</td>\n",
       "      <td>441352</td>\n",
       "      <td>73796</td>\n",
       "    </tr>\n",
       "    <tr>\n",
       "      <th>3</th>\n",
       "      <td>log_2022-01-06.txt</td>\n",
       "      <td>398042</td>\n",
       "      <td>105986</td>\n",
       "    </tr>\n",
       "    <tr>\n",
       "      <th>4</th>\n",
       "      <td>log_2022-01-07.txt</td>\n",
       "      <td>446871</td>\n",
       "      <td>72882</td>\n",
       "    </tr>\n",
       "    <tr>\n",
       "      <th>5</th>\n",
       "      <td>log_2022-01-08.txt</td>\n",
       "      <td>475706</td>\n",
       "      <td>72648</td>\n",
       "    </tr>\n",
       "    <tr>\n",
       "      <th>6</th>\n",
       "      <td>log_2022-01-09.txt</td>\n",
       "      <td>464627</td>\n",
       "      <td>83754</td>\n",
       "    </tr>\n",
       "    <tr>\n",
       "      <th>7</th>\n",
       "      <td>log_2022-01-10.txt</td>\n",
       "      <td>497906</td>\n",
       "      <td>158753</td>\n",
       "    </tr>\n",
       "    <tr>\n",
       "      <th>8</th>\n",
       "      <td>log_2022-01-11.txt</td>\n",
       "      <td>661316</td>\n",
       "      <td>34270</td>\n",
       "    </tr>\n",
       "    <tr>\n",
       "      <th>9</th>\n",
       "      <td>log_2022-01-12.txt</td>\n",
       "      <td>548401</td>\n",
       "      <td>7355</td>\n",
       "    </tr>\n",
       "  </tbody>\n",
       "</table>\n",
       "</div>"
      ],
      "text/plain": [
       "            file_name   count  remove_duplicate\n",
       "0  log_2022-01-03.txt  125174             27675\n",
       "1  log_2022-01-04.txt  632100            182398\n",
       "2  log_2022-01-05.txt  441352             73796\n",
       "3  log_2022-01-06.txt  398042            105986\n",
       "4  log_2022-01-07.txt  446871             72882\n",
       "5  log_2022-01-08.txt  475706             72648\n",
       "6  log_2022-01-09.txt  464627             83754\n",
       "7  log_2022-01-10.txt  497906            158753\n",
       "8  log_2022-01-11.txt  661316             34270\n",
       "9  log_2022-01-12.txt  548401              7355"
      ]
     },
     "execution_count": 47,
     "metadata": {},
     "output_type": "execute_result"
    }
   ],
   "source": [
    "df_count_data_txt = pd.DataFrame({'file_name':filenames_txt, 'count':list_count_data_txt, 'remove_duplicate':list_count_data_df})\n",
    "df_count_data_txt"
   ]
  },
  {
   "cell_type": "code",
   "execution_count": 23,
   "metadata": {},
   "outputs": [],
   "source": [
    "# #proproc 1 = backslash and save\n",
    "# def data_preproc1(file_name):\n",
    "#     reader = open(path+file_name, 'r')\n",
    "#     websites_url = reader.readlines()\n",
    "#     reader.close()\n",
    "#     websites_url = remove_duplicate(websites_url)\n",
    "#     df_websites_url = pd.DataFrame({'url':websites_url})\n",
    "#     df_websites_url['url'] = df_websites_url['url'].apply(remove_backslash_n)\n",
    "#     df_websites_url.to_csv('data/data_preproc1/p1{}.csv'.format(file_name.replace('.txt','')))"
   ]
  },
  {
   "cell_type": "markdown",
   "metadata": {},
   "source": [
    "## Combine all df and remove duplikat"
   ]
  },
  {
   "cell_type": "code",
   "execution_count": 48,
   "metadata": {},
   "outputs": [],
   "source": [
    "#get file name\n",
    "path_data_preproc1 = 'data\\1_data_selection/'\n",
    "filenames_data_preproc1 = np.array(next(walk(path_data_preproc1), (None, None, []))[2]) \n",
    "filenames_data_preproc1 = filenames_data_preproc1[[re.search(r'.csv',i) != None for i in filenames_data_preproc1 ]]\n",
    "filenames_data_preproc1\n",
    "\n",
    "#path+filename\n",
    "path_file_4_combine = [path_data_preproc1+f for f in filenames_data_preproc1]"
   ]
  },
  {
   "cell_type": "code",
   "execution_count": 49,
   "metadata": {},
   "outputs": [
    {
     "name": "stdout",
     "output_type": "stream",
     "text": [
      "count total data = 819517\n"
     ]
    },
    {
     "data": {
      "text/plain": [
       "[27675, 182398, 73796, 105986, 72882, 72648, 83754, 158753, 34270, 7355]"
      ]
     },
     "execution_count": 49,
     "metadata": {},
     "output_type": "execute_result"
    }
   ],
   "source": [
    "# combine all data set\n",
    "list_of_count_data = []\n",
    "df_combine = ''\n",
    "for i, p in enumerate(path_file_4_combine):\n",
    "    df_i = pd.read_csv(p, index_col=0)\n",
    "    list_of_count_data.append(df_i.shape[0])\n",
    "    if i == 0:\n",
    "        df_combine = df_i\n",
    "    else :\n",
    "        df_combine = pd.concat([df_combine, df_i])\n",
    "\n",
    "print('count total data = ' + str(df_combine.shape[0]))\n",
    "list_of_count_data"
   ]
  },
  {
   "cell_type": "code",
   "execution_count": 50,
   "metadata": {},
   "outputs": [
    {
     "data": {
      "text/html": [
       "<div>\n",
       "<style scoped>\n",
       "    .dataframe tbody tr th:only-of-type {\n",
       "        vertical-align: middle;\n",
       "    }\n",
       "\n",
       "    .dataframe tbody tr th {\n",
       "        vertical-align: top;\n",
       "    }\n",
       "\n",
       "    .dataframe thead th {\n",
       "        text-align: right;\n",
       "    }\n",
       "</style>\n",
       "<table border=\"1\" class=\"dataframe\">\n",
       "  <thead>\n",
       "    <tr style=\"text-align: right;\">\n",
       "      <th></th>\n",
       "      <th>url</th>\n",
       "    </tr>\n",
       "  </thead>\n",
       "  <tbody>\n",
       "    <tr>\n",
       "      <th>103606</th>\n",
       "      <td>https://www.outlookturkey.com/?s=PkEKBwXFe+Eu2...</td>\n",
       "    </tr>\n",
       "    <tr>\n",
       "      <th>109122</th>\n",
       "      <td>http://jb.wa6bmf-qa2n.cn/sign/44rhe71de/t/888/...</td>\n",
       "    </tr>\n",
       "    <tr>\n",
       "      <th>102239</th>\n",
       "      <td>https://signin.ea.com/p/ajax/user/checkEmailEx...</td>\n",
       "    </tr>\n",
       "    <tr>\n",
       "      <th>78111</th>\n",
       "      <td>https://1login.wp.pl/api/v1/public/ol-identity...</td>\n",
       "    </tr>\n",
       "    <tr>\n",
       "      <th>55677</th>\n",
       "      <td>https://59.110.245.172/link?target=https%3A%2F...</td>\n",
       "    </tr>\n",
       "  </tbody>\n",
       "</table>\n",
       "</div>"
      ],
      "text/plain": [
       "                                                      url\n",
       "103606  https://www.outlookturkey.com/?s=PkEKBwXFe+Eu2...\n",
       "109122  http://jb.wa6bmf-qa2n.cn/sign/44rhe71de/t/888/...\n",
       "102239  https://signin.ea.com/p/ajax/user/checkEmailEx...\n",
       "78111   https://1login.wp.pl/api/v1/public/ol-identity...\n",
       "55677   https://59.110.245.172/link?target=https%3A%2F..."
      ]
     },
     "execution_count": 50,
     "metadata": {},
     "output_type": "execute_result"
    }
   ],
   "source": [
    "df_combine.sample(5)"
   ]
  },
  {
   "cell_type": "code",
   "execution_count": 51,
   "metadata": {},
   "outputs": [
    {
     "data": {
      "text/html": [
       "<div>\n",
       "<style scoped>\n",
       "    .dataframe tbody tr th:only-of-type {\n",
       "        vertical-align: middle;\n",
       "    }\n",
       "\n",
       "    .dataframe tbody tr th {\n",
       "        vertical-align: top;\n",
       "    }\n",
       "\n",
       "    .dataframe thead th {\n",
       "        text-align: right;\n",
       "    }\n",
       "</style>\n",
       "<table border=\"1\" class=\"dataframe\">\n",
       "  <thead>\n",
       "    <tr style=\"text-align: right;\">\n",
       "      <th></th>\n",
       "      <th>file_name</th>\n",
       "      <th>count</th>\n",
       "    </tr>\n",
       "  </thead>\n",
       "  <tbody>\n",
       "    <tr>\n",
       "      <th>0</th>\n",
       "      <td>p1_log_2022-01-03.csv</td>\n",
       "      <td>27675</td>\n",
       "    </tr>\n",
       "    <tr>\n",
       "      <th>1</th>\n",
       "      <td>p1_log_2022-01-04.csv</td>\n",
       "      <td>182398</td>\n",
       "    </tr>\n",
       "    <tr>\n",
       "      <th>2</th>\n",
       "      <td>p1_log_2022-01-05.csv</td>\n",
       "      <td>73796</td>\n",
       "    </tr>\n",
       "    <tr>\n",
       "      <th>3</th>\n",
       "      <td>p1_log_2022-01-06.csv</td>\n",
       "      <td>105986</td>\n",
       "    </tr>\n",
       "    <tr>\n",
       "      <th>4</th>\n",
       "      <td>p1_log_2022-01-07.csv</td>\n",
       "      <td>72882</td>\n",
       "    </tr>\n",
       "    <tr>\n",
       "      <th>5</th>\n",
       "      <td>p1_log_2022-01-08.csv</td>\n",
       "      <td>72648</td>\n",
       "    </tr>\n",
       "    <tr>\n",
       "      <th>6</th>\n",
       "      <td>p1_log_2022-01-09.csv</td>\n",
       "      <td>83754</td>\n",
       "    </tr>\n",
       "    <tr>\n",
       "      <th>7</th>\n",
       "      <td>p1_log_2022-01-10.csv</td>\n",
       "      <td>158753</td>\n",
       "    </tr>\n",
       "    <tr>\n",
       "      <th>8</th>\n",
       "      <td>p1_log_2022-01-11.csv</td>\n",
       "      <td>34270</td>\n",
       "    </tr>\n",
       "    <tr>\n",
       "      <th>9</th>\n",
       "      <td>p1_log_2022-01-12.csv</td>\n",
       "      <td>7355</td>\n",
       "    </tr>\n",
       "  </tbody>\n",
       "</table>\n",
       "</div>"
      ],
      "text/plain": [
       "               file_name   count\n",
       "0  p1_log_2022-01-03.csv   27675\n",
       "1  p1_log_2022-01-04.csv  182398\n",
       "2  p1_log_2022-01-05.csv   73796\n",
       "3  p1_log_2022-01-06.csv  105986\n",
       "4  p1_log_2022-01-07.csv   72882\n",
       "5  p1_log_2022-01-08.csv   72648\n",
       "6  p1_log_2022-01-09.csv   83754\n",
       "7  p1_log_2022-01-10.csv  158753\n",
       "8  p1_log_2022-01-11.csv   34270\n",
       "9  p1_log_2022-01-12.csv    7355"
      ]
     },
     "execution_count": 51,
     "metadata": {},
     "output_type": "execute_result"
    }
   ],
   "source": [
    "df_count_data = pd.DataFrame({'file_name':filenames_data_preproc1, 'count':list_of_count_data})\n",
    "df_count_data"
   ]
  },
  {
   "cell_type": "code",
   "execution_count": 52,
   "metadata": {},
   "outputs": [
    {
     "data": {
      "text/plain": [
       "806196"
      ]
     },
     "execution_count": 52,
     "metadata": {},
     "output_type": "execute_result"
    }
   ],
   "source": [
    "df_combine.drop_duplicates(subset=['url'], inplace=True)\n",
    "df_combine.shape[0]"
   ]
  },
  {
   "cell_type": "code",
   "execution_count": 69,
   "metadata": {},
   "outputs": [],
   "source": [
    "df_combine.to_csv('data\\1_data_selection/p1_log_combine_2022-01.csv', index=False)"
   ]
  },
  {
   "cell_type": "markdown",
   "metadata": {},
   "source": [
    "### remove based on file type"
   ]
  },
  {
   "cell_type": "code",
   "execution_count": 75,
   "metadata": {},
   "outputs": [
    {
     "data": {
      "text/html": [
       "<div>\n",
       "<style scoped>\n",
       "    .dataframe tbody tr th:only-of-type {\n",
       "        vertical-align: middle;\n",
       "    }\n",
       "\n",
       "    .dataframe tbody tr th {\n",
       "        vertical-align: top;\n",
       "    }\n",
       "\n",
       "    .dataframe thead th {\n",
       "        text-align: right;\n",
       "    }\n",
       "</style>\n",
       "<table border=\"1\" class=\"dataframe\">\n",
       "  <thead>\n",
       "    <tr style=\"text-align: right;\">\n",
       "      <th></th>\n",
       "      <th>url</th>\n",
       "    </tr>\n",
       "  </thead>\n",
       "  <tbody>\n",
       "    <tr>\n",
       "      <th>726224</th>\n",
       "      <td>http://download.syt1000.com/update/server.conf...</td>\n",
       "    </tr>\n",
       "    <tr>\n",
       "      <th>493421</th>\n",
       "      <td>http://api.steampowered.com/ISteamUser/GetPlay...</td>\n",
       "    </tr>\n",
       "    <tr>\n",
       "      <th>260296</th>\n",
       "      <td>http://api.steampowered.com/ISteamUser/GetPlay...</td>\n",
       "    </tr>\n",
       "    <tr>\n",
       "      <th>420398</th>\n",
       "      <td>http://119.23.249.140/MobileDeposit/Wait.html?...</td>\n",
       "    </tr>\n",
       "    <tr>\n",
       "      <th>759306</th>\n",
       "      <td>https://k.airasia.com/shopprice-n/api/v4/price...</td>\n",
       "    </tr>\n",
       "  </tbody>\n",
       "</table>\n",
       "</div>"
      ],
      "text/plain": [
       "                                                      url\n",
       "726224  http://download.syt1000.com/update/server.conf...\n",
       "493421  http://api.steampowered.com/ISteamUser/GetPlay...\n",
       "260296  http://api.steampowered.com/ISteamUser/GetPlay...\n",
       "420398  http://119.23.249.140/MobileDeposit/Wait.html?...\n",
       "759306  https://k.airasia.com/shopprice-n/api/v4/price..."
      ]
     },
     "execution_count": 75,
     "metadata": {},
     "output_type": "execute_result"
    }
   ],
   "source": [
    "df_combine_ft =pd.read_csv('data\\1_data_selection/p1_log_combine_2022-01.csv')\n",
    "df_combine_ft.sample(5)"
   ]
  },
  {
   "cell_type": "code",
   "execution_count": 76,
   "metadata": {},
   "outputs": [],
   "source": [
    "# hapus backslash dibelakang -> ragu\n",
    "# df_combine_ft.drop(df_combine_ft[df_combine_ft.url.apply(lambda x:x[-1]=='/')].index, inplace=True)\n",
    "# df_combine_ft[df_combine_ft.url.apply(lambda x:x[-1]=='/')].iloc[0,0]"
   ]
  },
  {
   "cell_type": "code",
   "execution_count": 77,
   "metadata": {},
   "outputs": [
    {
     "data": {
      "text/plain": [
       "'\\nmengandung string \"auth\"\\ndiakhiri dengan ekstensi gambar .png .jpg .jpeg .gif .svg .js .webp .json\\nmengandung .png .jpg .jpeg .gif .svg? .webp?\\ndiawali dengan https://g.api.mega.co.nz/cs?id=|PARS|[2]&lang=ru&domain=meganz\\n\\n/api /api/ -api api-\\n\\n# captcha\\nrecaptcha.net\\ngeo.captcha\\ncaptcha.php\\n/recaptcha/\\n/validateCaptcha\\n\\n'"
      ]
     },
     "execution_count": 77,
     "metadata": {},
     "output_type": "execute_result"
    }
   ],
   "source": [
    "'''\n",
    "mengandung string \"auth\"\n",
    "diakhiri dengan ekstensi gambar .png .jpg .jpeg .gif .svg .js .webp .json\n",
    "mengandung .png .jpg .jpeg .gif .svg? .webp?\n",
    "diawali dengan https://g.api.mega.co.nz/cs?id=|PARS|[2]&lang=ru&domain=meganz\n",
    "\n",
    "/api /api/ -api api-\n",
    "\n",
    "# captcha\n",
    "recaptcha.net\n",
    "geo.captcha\n",
    "captcha.php\n",
    "/recaptcha/\n",
    "/validateCaptcha\n",
    "\n",
    "'''"
   ]
  },
  {
   "cell_type": "code",
   "execution_count": null,
   "metadata": {},
   "outputs": [],
   "source": [
    "[r'.*\\.js$', r'.*\\.js\\?.*',\n",
    "r'.*\\.png$', r'.*\\.png\\?.*',\n",
    "r'.*\\.jpg$', r'.*\\.jpg\\?.*',\n",
    "r'.*\\.jpeg$', r'.*\\.jpeg\\?.*',\n",
    "r'.*\\.gif$', r'.*\\.gif\\?.*',\n",
    "r'.*\\.svg$', r'.*\\.svg\\?.*',\n",
    "r'.*\\.webp$', r'.*\\.webp\\?.*',\n",
    "r'.*\\.json$', r'.*\\.json\\?.*',\n",
    "r'.*\\.gif$', r'.*\\.gif\\?.*']"
   ]
  },
  {
   "cell_type": "code",
   "execution_count": 2,
   "metadata": {},
   "outputs": [],
   "source": [
    "import re\n",
    "\n",
    "# return true if pattern match\n",
    "def deletion_baseoncharacter(url):\n",
    "    pattern_list = [r'.*\\.js$', r'.*\\.js\\?.*',\n",
    "                    r'.*\\.png$', r'.*\\.png\\?.*',\n",
    "                    r'.*\\.jpg$', r'.*\\.jpg\\?.*',\n",
    "                    r'.*\\.jpeg$', r'.*\\.jpeg\\?.*',\n",
    "                    r'.*\\.gif$', r'.*\\.gif\\?.*',\n",
    "                    r'.*\\.svg$', r'.*\\.svg\\?.*',\n",
    "                    r'.*\\.webp$', r'.*\\.webp\\?.*',\n",
    "                    r'.*\\.json$', r'.*\\.json\\?.*',\n",
    "                    r'.*\\.gif$', r'.*\\.gif\\?.*']\n",
    "    \n",
    "    for p in pattern_list:\n",
    "        pattern = re.compile(p)\n",
    "        if re.match(pattern, url):\n",
    "            return(True)\n",
    "    \n",
    "    return(False)\n",
    "    \n",
    "# url = 'https://omgubuntu.disqus.com/count-data.js'\n",
    "# deletion_baseoncharacter(url)\n",
    "    "
   ]
  },
  {
   "cell_type": "code",
   "execution_count": 79,
   "metadata": {},
   "outputs": [],
   "source": [
    "df_combine_ft.drop(df_combine_ft[df_combine_ft.url.apply(deletion_baseoncharacter)].index, inplace=True)"
   ]
  },
  {
   "cell_type": "code",
   "execution_count": 80,
   "metadata": {},
   "outputs": [
    {
     "data": {
      "text/plain": [
       "777491"
      ]
     },
     "execution_count": 80,
     "metadata": {},
     "output_type": "execute_result"
    }
   ],
   "source": [
    "df_combine_ft.shape[0]"
   ]
  },
  {
   "cell_type": "code",
   "execution_count": 81,
   "metadata": {},
   "outputs": [],
   "source": [
    "def deletion_baseoncharacter_(url):\n",
    "    pattern_list = [r'.*auth.*',\n",
    "                    r'.*auth.*',\n",
    "                    r'.*[-\\/.]api$',r'.*[-\\/.]api[-\\/.].*',r'^api[-\\/.].*',\n",
    "                    r'.*[-\\/.]captcha$',r'.*[-\\/.]captcha[-\\/.].*',r'^captcha[-\\/.].*',\n",
    "                    r'.*[-\\/.]recaptcha$',r'.*[-\\/.]recaptcha[-\\/.].*',r'^recaptcha[-\\/.].*',\n",
    "                    r'.*[-\\/.]validatecaptcha$',r'.*[-\\/.]validatecaptcha[-\\/.].*',r'^validatecaptcha[-\\/.].*',\n",
    "                    r'.*mega\\.co\\.nz.*']\n",
    "    \n",
    "    for p in pattern_list:\n",
    "        pattern = re.compile(p)\n",
    "        if re.match(pattern, url):\n",
    "            return(True)\n",
    "    \n",
    "    return(False)"
   ]
  },
  {
   "cell_type": "code",
   "execution_count": 82,
   "metadata": {},
   "outputs": [],
   "source": [
    "df_combine_ft.drop(df_combine_ft[df_combine_ft.url.apply(deletion_baseoncharacter_)].index, inplace=True)"
   ]
  },
  {
   "cell_type": "code",
   "execution_count": 83,
   "metadata": {},
   "outputs": [
    {
     "data": {
      "text/plain": [
       "631157"
      ]
     },
     "execution_count": 83,
     "metadata": {},
     "output_type": "execute_result"
    }
   ],
   "source": [
    "df_combine_ft.shape[0]"
   ]
  },
  {
   "cell_type": "code",
   "execution_count": 85,
   "metadata": {},
   "outputs": [],
   "source": [
    "df_combine_ft.to_csv('data\\1_data_selection\\p1_v2_log_combine_2022-01.csv', index = False)"
   ]
  },
  {
   "cell_type": "code",
   "execution_count": 65,
   "metadata": {},
   "outputs": [],
   "source": [
    "# import urllib\n",
    "# import mimetypes\n",
    "\n",
    "# def guess_type_of(link, strict=True):\n",
    "#     try :\n",
    "#       link_type, _ = mimetypes.guess_type(link)\n",
    "#       if link_type is None and strict:\n",
    "#           u = urllib.request.urlopen(link)\n",
    "#           link_type = u.headers.get_content_type() # or using: u.info().gettype()\n",
    "#     except Exception as e: \n",
    "#       link_type = \"[ERROR] \" + str(e)\n",
    "#     return link_type"
   ]
  },
  {
   "cell_type": "markdown",
   "metadata": {},
   "source": [
    "### split the file"
   ]
  },
  {
   "cell_type": "code",
   "execution_count": 86,
   "metadata": {},
   "outputs": [],
   "source": [
    "source_path = 'data\\1_data_selection\\p1_v2_log_combine_2022-01.csv'\n",
    "for i,chunk in enumerate(pd.read_csv(source_path, chunksize=30000)):\n",
    "    chunk.to_csv('data\\1_data_selection/combine_split/sistem_dodo_b{}.csv'.format(i), index=False)"
   ]
  },
  {
   "cell_type": "code",
   "execution_count": null,
   "metadata": {},
   "outputs": [],
   "source": []
  }
 ],
 "metadata": {
  "interpreter": {
   "hash": "343f3d274de0554954cf955edb183fdc0cc62c5d26a777b2092a313e42e0680b"
  },
  "kernelspec": {
   "display_name": "Python 3.8.5 ('base')",
   "language": "python",
   "name": "python3"
  },
  "language_info": {
   "codemirror_mode": {
    "name": "ipython",
    "version": 3
   },
   "file_extension": ".py",
   "mimetype": "text/x-python",
   "name": "python",
   "nbconvert_exporter": "python",
   "pygments_lexer": "ipython3",
   "version": "3.8.5"
  },
  "orig_nbformat": 4
 },
 "nbformat": 4,
 "nbformat_minor": 2
}
