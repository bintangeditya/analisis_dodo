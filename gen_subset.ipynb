{
 "cells": [
  {
   "cell_type": "code",
   "execution_count": 1,
   "metadata": {},
   "outputs": [],
   "source": [
    "import pandas as pd\n",
    "import numpy as np"
   ]
  },
  {
   "cell_type": "code",
   "execution_count": 2,
   "metadata": {},
   "outputs": [],
   "source": [
    "df = pd.read_csv('data\\data_draft\\sample_bab4.csv', index_col = 0)"
   ]
  },
  {
   "cell_type": "code",
   "execution_count": 3,
   "metadata": {},
   "outputs": [
    {
     "data": {
      "text/plain": [
       "262"
      ]
     },
     "execution_count": 3,
     "metadata": {},
     "output_type": "execute_result"
    }
   ],
   "source": [
    "df.shape[0]"
   ]
  },
  {
   "cell_type": "code",
   "execution_count": 4,
   "metadata": {},
   "outputs": [],
   "source": [
    "df_aman = df[df.label == 'aman'].copy()\n",
    "df_berbahaya = df[df.label == 'berbahaya'].copy()"
   ]
  },
  {
   "cell_type": "code",
   "execution_count": 5,
   "metadata": {},
   "outputs": [
    {
     "name": "stdout",
     "output_type": "stream",
     "text": [
      "131\n",
      "131\n"
     ]
    }
   ],
   "source": [
    "print(df_aman.shape[0])\n",
    "print(df_berbahaya.shape[0])"
   ]
  },
  {
   "cell_type": "code",
   "execution_count": 6,
   "metadata": {},
   "outputs": [],
   "source": [
    "split_df_aman = np.array_split(df_aman,10)\n",
    "split_df_berbahaya = np.array_split(df_berbahaya,10)"
   ]
  },
  {
   "cell_type": "code",
   "execution_count": 7,
   "metadata": {},
   "outputs": [],
   "source": [
    "split_df = []\n",
    "for i in range(10):\n",
    "    split_df.append(pd.concat([split_df_aman[i],split_df_berbahaya[i]]))\n",
    "    # split_df[i].to_csv('data\\data_draft\\subset\\subset{}.csv'.format(i+1))\n",
    "        "
   ]
  },
  {
   "cell_type": "code",
   "execution_count": 8,
   "metadata": {},
   "outputs": [],
   "source": [
    "import joblib\n",
    "from sklearn.linear_model import SGDClassifier\n",
    "from scipy.sparse import vstack\n",
    "from sklearn.metrics import classification_report\n",
    "from sklearn.metrics import accuracy_score"
   ]
  },
  {
   "cell_type": "code",
   "execution_count": 9,
   "metadata": {},
   "outputs": [
    {
     "name": "stderr",
     "output_type": "stream",
     "text": [
      "c:\\Users\\binta\\anaconda3\\lib\\site-packages\\sklearn\\base.py:329: UserWarning: Trying to unpickle estimator TfidfTransformer from version 1.0.2 when using version 1.1.2. This might lead to breaking code or invalid results. Use at your own risk. For more info please refer to:\n",
      "https://scikit-learn.org/stable/model_persistence.html#security-maintainability-limitations\n",
      "  warnings.warn(\n",
      "c:\\Users\\binta\\anaconda3\\lib\\site-packages\\sklearn\\base.py:329: UserWarning: Trying to unpickle estimator TfidfVectorizer from version 1.0.2 when using version 1.1.2. This might lead to breaking code or invalid results. Use at your own risk. For more info please refer to:\n",
      "https://scikit-learn.org/stable/model_persistence.html#security-maintainability-limitations\n",
      "  warnings.warn(\n",
      "c:\\Users\\binta\\anaconda3\\lib\\site-packages\\sklearn\\base.py:329: UserWarning: Trying to unpickle estimator SGDClassifier from version 1.0.2 when using version 1.1.2. This might lead to breaking code or invalid results. Use at your own risk. For more info please refer to:\n",
      "https://scikit-learn.org/stable/model_persistence.html#security-maintainability-limitations\n",
      "  warnings.warn(\n"
     ]
    }
   ],
   "source": [
    "vect_desc = joblib.load(r'saved_model\\vect_desc.pkl')\n",
    "vect_title = joblib.load(r'saved_model\\vect_title.pkl')\n",
    "svm_desc = joblib.load(r'saved_model\\SVM_desc.pkl')\n",
    "svm_title = joblib.load(r'saved_model\\SVM_title.pkl')"
   ]
  },
  {
   "cell_type": "code",
   "execution_count": 10,
   "metadata": {},
   "outputs": [],
   "source": [
    "split_desc_tfidf = []\n",
    "split_title_tfidf = []\n",
    "for i in range(10):\n",
    "    split_desc_tfidf.append(vect_desc.transform(split_df[i].desc_p.to_list()))\n",
    "    split_title_tfidf.append(vect_title.transform(split_df[i].title_p.to_list()))"
   ]
  },
  {
   "cell_type": "code",
   "execution_count": 11,
   "metadata": {},
   "outputs": [],
   "source": [
    "label = []\n",
    "for i in range(10):\n",
    "    label.append(split_df[i].label)\n",
    "    "
   ]
  },
  {
   "cell_type": "code",
   "execution_count": 12,
   "metadata": {},
   "outputs": [],
   "source": [
    "def decfunc_final(desc,title):\n",
    "    desc_decfunc_value = 0.98/1.85\n",
    "    title_decfunc_value = 0.87/1.85\n",
    "    hasil = desc * desc_decfunc_value + title * title_decfunc_value \n",
    "    return \"aman\" if  hasil > 0 else \"berbahaya\""
   ]
  },
  {
   "cell_type": "code",
   "execution_count": 13,
   "metadata": {},
   "outputs": [],
   "source": [
    "acc = []\n",
    "predicted_label_svm = []\n",
    "for i in range(10):\n",
    "    temp_label = label[:]\n",
    "    test_label = temp_label.pop(i)\n",
    "    train_label = pd.concat(temp_label[:])\n",
    "\n",
    "    SVM_desc = SGDClassifier(loss='hinge')\n",
    "    temp_split_desc_tfidf = split_desc_tfidf[:]\n",
    "    test_desc = temp_split_desc_tfidf.pop(i)\n",
    "    train_desc = vstack((temp_split_desc_tfidf[:]))\n",
    "    SVM_desc.fit(train_desc,train_label)\n",
    "\n",
    "    SVM_title = SGDClassifier(loss='hinge')\n",
    "    temp_split_title_tfidf = split_title_tfidf[:]\n",
    "    test_title = temp_split_title_tfidf.pop(i)\n",
    "    train_title = vstack((temp_split_title_tfidf[:]))\n",
    "    SVM_title.fit(train_title,train_label)\n",
    "\n",
    "    dec_func_desc = SVM_desc.decision_function(test_desc)\n",
    "    dec_func_title = SVM_title.decision_function(test_title)\n",
    "    dec_func_desc = dec_func_desc*-1\n",
    "    dec_func_title = dec_func_title*-1\n",
    "\n",
    "    predic_final = list(map(decfunc_final,dec_func_desc,dec_func_title))\n",
    "    predicted_label_svm.append(predic_final)\n",
    "    acc.append(accuracy_score(predic_final,test_label))"
   ]
  },
  {
   "cell_type": "code",
   "execution_count": 34,
   "metadata": {},
   "outputs": [
    {
     "data": {
      "text/plain": [
       "0.9642857142857143"
      ]
     },
     "execution_count": 34,
     "metadata": {},
     "output_type": "execute_result"
    }
   ],
   "source": [
    "acc[0]"
   ]
  },
  {
   "cell_type": "code",
   "execution_count": 18,
   "metadata": {},
   "outputs": [],
   "source": [
    "predicted_label_spm = []\n",
    "acc_spm = []\n",
    "\n",
    "from dodo_spm import spm\n",
    "\n",
    "for i in range(10):\n",
    "    predicted_label = []\n",
    "    test_label = split_df[i]['label']\n",
    "    for j in list(split_df[i]['url']):\n",
    "        predicted_label.append(spm.profanity_check_url(j))\n",
    "    predicted_label_spm.append(predicted_label)\n",
    "    acc_spm.append(accuracy_score(predicted_label,test_label))"
   ]
  },
  {
   "cell_type": "code",
   "execution_count": 29,
   "metadata": {},
   "outputs": [],
   "source": [
    "temp_subset1 = split_df[:]\n",
    "test_subset1 = temp_subset1.pop(0)\n",
    "train_subset1 = pd.concat(temp_subset1[:])\n",
    "df_subset1_test = pd.DataFrame({'url':test_subset1.url, 'label' :test_subset1.label, 'SVM_label':predicted_label_svm[0], 'SPM_label':predicted_label_spm[0]})\n",
    "df_subset1_train = pd.DataFrame({'url': train_subset1.url, 'label' : train_subset1.label})\n"
   ]
  },
  {
   "cell_type": "code",
   "execution_count": 31,
   "metadata": {},
   "outputs": [],
   "source": [
    "df_subset1_train.to_csv('data\\data_draft\\subset1_train.csv')"
   ]
  },
  {
   "cell_type": "code",
   "execution_count": 32,
   "metadata": {},
   "outputs": [],
   "source": [
    "df_subset1_test.to_csv('data\\data_draft\\subset1_test.csv')"
   ]
  },
  {
   "cell_type": "code",
   "execution_count": 33,
   "metadata": {},
   "outputs": [
    {
     "data": {
      "text/plain": [
       "0.6785714285714286"
      ]
     },
     "execution_count": 33,
     "metadata": {},
     "output_type": "execute_result"
    }
   ],
   "source": [
    "acc_spm[0]"
   ]
  },
  {
   "cell_type": "code",
   "execution_count": 36,
   "metadata": {},
   "outputs": [],
   "source": [
    "akurasi_df = pd.DataFrame({'akurasi_svm':acc, 'akurasi_spm':acc_spm})"
   ]
  },
  {
   "cell_type": "code",
   "execution_count": 40,
   "metadata": {},
   "outputs": [],
   "source": [
    "akurasi_df.to_csv(r'data\\data_draft\\akurasi_bab4.csv')"
   ]
  },
  {
   "cell_type": "code",
   "execution_count": 41,
   "metadata": {},
   "outputs": [
    {
     "data": {
      "text/plain": [
       "0.9656593406593407"
      ]
     },
     "execution_count": 41,
     "metadata": {},
     "output_type": "execute_result"
    }
   ],
   "source": [
    "np.mean(acc)"
   ]
  },
  {
   "cell_type": "code",
   "execution_count": 42,
   "metadata": {},
   "outputs": [
    {
     "data": {
      "text/plain": [
       "0.6601648351648352"
      ]
     },
     "execution_count": 42,
     "metadata": {},
     "output_type": "execute_result"
    }
   ],
   "source": [
    "np.mean(acc_spm)"
   ]
  },
  {
   "cell_type": "code",
   "execution_count": null,
   "metadata": {},
   "outputs": [],
   "source": [
    "# train_label = pd.concat(label[0:9])\n",
    "# test_label = label[9]\n",
    "\n",
    "# SVM_desc = SGDClassifier(loss='hinge')\n",
    "# train_desc = vstack((split_desc_tfidf[0:9]))\n",
    "# test_desc = split_desc_tfidf[9]\n",
    "# SVM_desc.fit(train_desc,train_label)\n",
    "\n",
    "# SVM_title = SGDClassifier(loss='hinge')\n",
    "# train_title = vstack((split_title_tfidf[0:9]))\n",
    "# test_title = split_title_tfidf[9]\n",
    "# SVM_title.fit(train_title,train_label)\n",
    "\n",
    "# dec_func_desc = SVM_desc.decision_function(test_desc)\n",
    "# dec_func_title = SVM_title.decision_function(test_title)\n",
    "# dec_func_desc = dec_func_desc*-1\n",
    "# dec_func_title = dec_func_title*-1\n",
    "\n",
    "# predic_final = list(map(decfunc_final,dec_func_desc,dec_func_title))\n",
    "\n",
    "# accuracy_score(predic_final,test_label)\n",
    "\n",
    "# a = [1,2,3,4]\n",
    "\n",
    "# temp = a[:]\n",
    "# test = temp.pop(2)\n",
    "# train = temp[:]"
   ]
  }
 ],
 "metadata": {
  "kernelspec": {
   "display_name": "Python 3.8.5 ('base')",
   "language": "python",
   "name": "python3"
  },
  "language_info": {
   "codemirror_mode": {
    "name": "ipython",
    "version": 3
   },
   "file_extension": ".py",
   "mimetype": "text/x-python",
   "name": "python",
   "nbconvert_exporter": "python",
   "pygments_lexer": "ipython3",
   "version": "3.8.5"
  },
  "orig_nbformat": 4,
  "vscode": {
   "interpreter": {
    "hash": "343f3d274de0554954cf955edb183fdc0cc62c5d26a777b2092a313e42e0680b"
   }
  }
 },
 "nbformat": 4,
 "nbformat_minor": 2
}
