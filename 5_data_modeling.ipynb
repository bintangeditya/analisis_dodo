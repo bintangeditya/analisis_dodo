{
 "cells": [
  {
   "cell_type": "code",
   "execution_count": 1,
   "metadata": {},
   "outputs": [],
   "source": [
    "import pandas as pd\n",
    "from sklearn.feature_extraction.text import TfidfVectorizer"
   ]
  },
  {
   "cell_type": "code",
   "execution_count": 2,
   "metadata": {},
   "outputs": [],
   "source": [
    "# load data train dan test\n",
    "df_train = pd.read_csv(r'data\\4_data_preprocessing\\5000_best\\p4_v02_5000best.csv', index_col=0)\n",
    "df_test = pd.read_csv(r'data\\4_data_preprocessing\\sistem_dodo\\p4_sistem_dodo_b0_c00.csv', index_col=0)"
   ]
  },
  {
   "cell_type": "code",
   "execution_count": 3,
   "metadata": {},
   "outputs": [],
   "source": [
    "# rename column data train\n",
    "dataset_train = df_train[['url', 'description_p4','title_p4',\"label\"]].copy()\n",
    "dataset_train.columns = ['url', 'description','title','label']"
   ]
  },
  {
   "cell_type": "code",
   "execution_count": 4,
   "metadata": {},
   "outputs": [
    {
     "data": {
      "text/html": [
       "<div>\n",
       "<style scoped>\n",
       "    .dataframe tbody tr th:only-of-type {\n",
       "        vertical-align: middle;\n",
       "    }\n",
       "\n",
       "    .dataframe tbody tr th {\n",
       "        vertical-align: top;\n",
       "    }\n",
       "\n",
       "    .dataframe thead th {\n",
       "        text-align: right;\n",
       "    }\n",
       "</style>\n",
       "<table border=\"1\" class=\"dataframe\">\n",
       "  <thead>\n",
       "    <tr style=\"text-align: right;\">\n",
       "      <th></th>\n",
       "      <th>url</th>\n",
       "      <th>description</th>\n",
       "      <th>title</th>\n",
       "      <th>label</th>\n",
       "    </tr>\n",
       "  </thead>\n",
       "  <tbody>\n",
       "    <tr>\n",
       "      <th>189</th>\n",
       "      <td>https://gaymaletube.com</td>\n",
       "      <td>['gaymaletube', 'hottest', 'gay', 'porn', 'cat...</td>\n",
       "      <td>['gay', 'porn', 'gay', 'male', 'tube']</td>\n",
       "      <td>berbahaya</td>\n",
       "    </tr>\n",
       "    <tr>\n",
       "      <th>76</th>\n",
       "      <td>https://space.com</td>\n",
       "      <td>['get', 'late', 'space', 'exploration', 'innov...</td>\n",
       "      <td>['spacecom', 'nasa', 'space', 'exploration', '...</td>\n",
       "      <td>aman</td>\n",
       "    </tr>\n",
       "    <tr>\n",
       "      <th>121</th>\n",
       "      <td>https://webpronews.com</td>\n",
       "      <td>['break', 'business', 'news', 'cover', 'market...</td>\n",
       "      <td>['webpronews', 'digital', 'marketing', 'techno...</td>\n",
       "      <td>aman</td>\n",
       "    </tr>\n",
       "    <tr>\n",
       "      <th>259</th>\n",
       "      <td>https://jjgirls.com</td>\n",
       "      <td>['jjgirls', 'japanese', 'av', 'idol', 'sex', '...</td>\n",
       "      <td>['jjgirls', 'japanese', 'av', 'idol', 'sex', '...</td>\n",
       "      <td>berbahaya</td>\n",
       "    </tr>\n",
       "    <tr>\n",
       "      <th>86</th>\n",
       "      <td>https://oup.com</td>\n",
       "      <td>['home']</td>\n",
       "      <td>['oxford', 'university', 'press', 'homepage']</td>\n",
       "      <td>aman</td>\n",
       "    </tr>\n",
       "  </tbody>\n",
       "</table>\n",
       "</div>"
      ],
      "text/plain": [
       "                         url  \\\n",
       "189  https://gaymaletube.com   \n",
       "76         https://space.com   \n",
       "121   https://webpronews.com   \n",
       "259      https://jjgirls.com   \n",
       "86           https://oup.com   \n",
       "\n",
       "                                           description  \\\n",
       "189  ['gaymaletube', 'hottest', 'gay', 'porn', 'cat...   \n",
       "76   ['get', 'late', 'space', 'exploration', 'innov...   \n",
       "121  ['break', 'business', 'news', 'cover', 'market...   \n",
       "259  ['jjgirls', 'japanese', 'av', 'idol', 'sex', '...   \n",
       "86                                            ['home']   \n",
       "\n",
       "                                                 title      label  \n",
       "189             ['gay', 'porn', 'gay', 'male', 'tube']  berbahaya  \n",
       "76   ['spacecom', 'nasa', 'space', 'exploration', '...       aman  \n",
       "121  ['webpronews', 'digital', 'marketing', 'techno...       aman  \n",
       "259  ['jjgirls', 'japanese', 'av', 'idol', 'sex', '...  berbahaya  \n",
       "86       ['oxford', 'university', 'press', 'homepage']       aman  "
      ]
     },
     "execution_count": 4,
     "metadata": {},
     "output_type": "execute_result"
    }
   ],
   "source": [
    "dataset_train.sample(5)"
   ]
  },
  {
   "cell_type": "code",
   "execution_count": 5,
   "metadata": {},
   "outputs": [],
   "source": [
    "# rename column data test\n",
    "dataset_test = df_test[['url', 'description_p4','title_p4']].copy()\n",
    "dataset_test.columns = ['url', 'description','title']"
   ]
  },
  {
   "cell_type": "code",
   "execution_count": 6,
   "metadata": {},
   "outputs": [
    {
     "data": {
      "text/html": [
       "<div>\n",
       "<style scoped>\n",
       "    .dataframe tbody tr th:only-of-type {\n",
       "        vertical-align: middle;\n",
       "    }\n",
       "\n",
       "    .dataframe tbody tr th {\n",
       "        vertical-align: top;\n",
       "    }\n",
       "\n",
       "    .dataframe thead th {\n",
       "        text-align: right;\n",
       "    }\n",
       "</style>\n",
       "<table border=\"1\" class=\"dataframe\">\n",
       "  <thead>\n",
       "    <tr style=\"text-align: right;\">\n",
       "      <th></th>\n",
       "      <th>url</th>\n",
       "      <th>description</th>\n",
       "      <th>title</th>\n",
       "    </tr>\n",
       "  </thead>\n",
       "  <tbody>\n",
       "    <tr>\n",
       "      <th>645</th>\n",
       "      <td>https://www.betfair.com/sport/football/german-...</td>\n",
       "      <td>['bet', 'football', 'betfair', 'sportsbook', '...</td>\n",
       "      <td>['football', 'bet', 'football', 'odds', 'onlin...</td>\n",
       "    </tr>\n",
       "    <tr>\n",
       "      <th>351</th>\n",
       "      <td>https://www.betfair.com/sport/ice-hockey/russi...</td>\n",
       "      <td>['bet', 'ice', 'hockey', 'betfair', 'sportsboo...</td>\n",
       "      <td>['ice', 'hockey', 'bet', 'ice', 'hockey', 'odd...</td>\n",
       "    </tr>\n",
       "    <tr>\n",
       "      <th>407</th>\n",
       "      <td>https://www.betfair.com/sport/tennis/wta-melbo...</td>\n",
       "      <td>['bet', 'tennis', 'betfair', 'sportsbook', 'br...</td>\n",
       "      <td>['tennis', 'bet', 'tennis', 'odds', '', 'betfa...</td>\n",
       "    </tr>\n",
       "    <tr>\n",
       "      <th>284</th>\n",
       "      <td>https://www.betfair.com/sport/ice-hockey</td>\n",
       "      <td>['bet', 'ice', 'hockey', 'betfair', 'sportsboo...</td>\n",
       "      <td>['ice', 'hockey', 'bet', 'ice', 'hockey', 'odd...</td>\n",
       "    </tr>\n",
       "    <tr>\n",
       "      <th>391</th>\n",
       "      <td>https://www.betfair.com/sport/ice-hockey/russi...</td>\n",
       "      <td>['bet', 'ice', 'hockey', 'betfair', 'sportsboo...</td>\n",
       "      <td>['ice', 'hockey', 'bet', 'ice', 'hockey', 'odd...</td>\n",
       "    </tr>\n",
       "  </tbody>\n",
       "</table>\n",
       "</div>"
      ],
      "text/plain": [
       "                                                   url  \\\n",
       "645  https://www.betfair.com/sport/football/german-...   \n",
       "351  https://www.betfair.com/sport/ice-hockey/russi...   \n",
       "407  https://www.betfair.com/sport/tennis/wta-melbo...   \n",
       "284           https://www.betfair.com/sport/ice-hockey   \n",
       "391  https://www.betfair.com/sport/ice-hockey/russi...   \n",
       "\n",
       "                                           description  \\\n",
       "645  ['bet', 'football', 'betfair', 'sportsbook', '...   \n",
       "351  ['bet', 'ice', 'hockey', 'betfair', 'sportsboo...   \n",
       "407  ['bet', 'tennis', 'betfair', 'sportsbook', 'br...   \n",
       "284  ['bet', 'ice', 'hockey', 'betfair', 'sportsboo...   \n",
       "391  ['bet', 'ice', 'hockey', 'betfair', 'sportsboo...   \n",
       "\n",
       "                                                 title  \n",
       "645  ['football', 'bet', 'football', 'odds', 'onlin...  \n",
       "351  ['ice', 'hockey', 'bet', 'ice', 'hockey', 'odd...  \n",
       "407  ['tennis', 'bet', 'tennis', 'odds', '', 'betfa...  \n",
       "284  ['ice', 'hockey', 'bet', 'ice', 'hockey', 'odd...  \n",
       "391  ['ice', 'hockey', 'bet', 'ice', 'hockey', 'odd...  "
      ]
     },
     "execution_count": 6,
     "metadata": {},
     "output_type": "execute_result"
    }
   ],
   "source": [
    "dataset_test.sample(5)"
   ]
  },
  {
   "cell_type": "code",
   "execution_count": 7,
   "metadata": {},
   "outputs": [],
   "source": [
    "# vectorizer desc data train dan test\n",
    "vect_desc = TfidfVectorizer()\n",
    "tfidf_desc_train_matrix = vect_desc.fit_transform(dataset_train['description'].to_list())\n",
    "tfidf_desc_test_matrix = vect_desc.transform(dataset_test['description'].to_list())"
   ]
  },
  {
   "cell_type": "code",
   "execution_count": 8,
   "metadata": {},
   "outputs": [],
   "source": [
    "# vectorizer title data train dan test\n",
    "vect_title = TfidfVectorizer()\n",
    "tfidf_title_train_matrix = vect_title.fit_transform(dataset_train['title'].to_list())\n",
    "tfidf_title_test_matrix = vect_title.transform(dataset_test['title'].to_list())"
   ]
  },
  {
   "cell_type": "code",
   "execution_count": 9,
   "metadata": {},
   "outputs": [
    {
     "name": "stderr",
     "output_type": "stream",
     "text": [
      "c:\\Users\\binta\\anaconda3\\lib\\site-packages\\sklearn\\utils\\deprecation.py:87: FutureWarning: Function get_feature_names is deprecated; get_feature_names is deprecated in 1.0 and will be removed in 1.2. Please use get_feature_names_out instead.\n",
      "  warnings.warn(msg, category=FutureWarning)\n",
      "c:\\Users\\binta\\anaconda3\\lib\\site-packages\\sklearn\\utils\\deprecation.py:87: FutureWarning: Function get_feature_names is deprecated; get_feature_names is deprecated in 1.0 and will be removed in 1.2. Please use get_feature_names_out instead.\n",
      "  warnings.warn(msg, category=FutureWarning)\n"
     ]
    }
   ],
   "source": [
    "# tf idf matrix desc data train dan test\n",
    "df_tfidf_desc_train = pd.DataFrame(tfidf_desc_train_matrix.toarray(), columns = vect_desc.get_feature_names())\n",
    "df_tfidf_desc_test = pd.DataFrame(tfidf_desc_test_matrix.toarray(), columns = vect_desc.get_feature_names())"
   ]
  },
  {
   "cell_type": "code",
   "execution_count": 10,
   "metadata": {},
   "outputs": [
    {
     "name": "stderr",
     "output_type": "stream",
     "text": [
      "c:\\Users\\binta\\anaconda3\\lib\\site-packages\\sklearn\\utils\\deprecation.py:87: FutureWarning: Function get_feature_names is deprecated; get_feature_names is deprecated in 1.0 and will be removed in 1.2. Please use get_feature_names_out instead.\n",
      "  warnings.warn(msg, category=FutureWarning)\n",
      "c:\\Users\\binta\\anaconda3\\lib\\site-packages\\sklearn\\utils\\deprecation.py:87: FutureWarning: Function get_feature_names is deprecated; get_feature_names is deprecated in 1.0 and will be removed in 1.2. Please use get_feature_names_out instead.\n",
      "  warnings.warn(msg, category=FutureWarning)\n"
     ]
    }
   ],
   "source": [
    "# tf idf matrix title data train dan test\n",
    "df_tfidf_title_train = pd.DataFrame(tfidf_title_train_matrix.toarray(), columns = vect_title.get_feature_names())\n",
    "df_tfidf_title_test = pd.DataFrame(tfidf_title_test_matrix.toarray(), columns = vect_title.get_feature_names())"
   ]
  },
  {
   "cell_type": "code",
   "execution_count": 12,
   "metadata": {},
   "outputs": [],
   "source": [
    "# tf idf matrix desc data train dan test \n",
    "df_tfidf_desc_train.to_csv(r'data\\5_data_modeling\\data_tfidf\\5000_best/tfidf_desc_p4_v02_5000best.csv')\n",
    "df_tfidf_desc_test.to_csv(r'data\\5_data_modeling\\data_tfidf\\sistem_dodo/tfidf_desc_sistem_dodo_b0_c00.csv')\n"
   ]
  },
  {
   "cell_type": "code",
   "execution_count": 15,
   "metadata": {},
   "outputs": [],
   "source": [
    "# tf idf matrix title data train dan test \n",
    "df_tfidf_title_train.to_csv(r'data\\5_data_modeling\\data_tfidf\\5000_best/tfidf_title_p4_v02_5000best.csv')\n",
    "df_tfidf_title_test.to_csv(r'data\\5_data_modeling\\data_tfidf\\sistem_dodo/tfidf_title_sistem_dodo_b0_c00.csv')\n"
   ]
  },
  {
   "cell_type": "code",
   "execution_count": 41,
   "metadata": {},
   "outputs": [],
   "source": [
    "# sample data untuk contoh\n",
    "df_tfidf_desc_train_chosen =  df_tfidf_desc_train.iloc[[0,48,137,140,77]].T.copy()"
   ]
  },
  {
   "cell_type": "code",
   "execution_count": 60,
   "metadata": {},
   "outputs": [
    {
     "data": {
      "text/html": [
       "<div>\n",
       "<style scoped>\n",
       "    .dataframe tbody tr th:only-of-type {\n",
       "        vertical-align: middle;\n",
       "    }\n",
       "\n",
       "    .dataframe tbody tr th {\n",
       "        vertical-align: top;\n",
       "    }\n",
       "\n",
       "    .dataframe thead th {\n",
       "        text-align: right;\n",
       "    }\n",
       "</style>\n",
       "<table border=\"1\" class=\"dataframe\">\n",
       "  <thead>\n",
       "    <tr style=\"text-align: right;\">\n",
       "      <th></th>\n",
       "      <th>0</th>\n",
       "      <th>48</th>\n",
       "      <th>137</th>\n",
       "      <th>140</th>\n",
       "      <th>77</th>\n",
       "    </tr>\n",
       "  </thead>\n",
       "  <tbody>\n",
       "    <tr>\n",
       "      <th>accredit</th>\n",
       "      <td>0.000000</td>\n",
       "      <td>0.295069</td>\n",
       "      <td>0.000000</td>\n",
       "      <td>0.000000</td>\n",
       "      <td>0.000000</td>\n",
       "    </tr>\n",
       "    <tr>\n",
       "      <th>align</th>\n",
       "      <td>0.000000</td>\n",
       "      <td>0.295069</td>\n",
       "      <td>0.000000</td>\n",
       "      <td>0.000000</td>\n",
       "      <td>0.000000</td>\n",
       "    </tr>\n",
       "    <tr>\n",
       "      <th>bachelor</th>\n",
       "      <td>0.221874</td>\n",
       "      <td>0.000000</td>\n",
       "      <td>0.000000</td>\n",
       "      <td>0.000000</td>\n",
       "      <td>0.000000</td>\n",
       "    </tr>\n",
       "    <tr>\n",
       "      <th>bantu</th>\n",
       "      <td>0.000000</td>\n",
       "      <td>0.000000</td>\n",
       "      <td>0.000000</td>\n",
       "      <td>0.000000</td>\n",
       "      <td>0.180557</td>\n",
       "    </tr>\n",
       "    <tr>\n",
       "      <th>broadcast</th>\n",
       "      <td>0.000000</td>\n",
       "      <td>0.000000</td>\n",
       "      <td>0.000000</td>\n",
       "      <td>0.352366</td>\n",
       "      <td>0.000000</td>\n",
       "    </tr>\n",
       "    <tr>\n",
       "      <th>...</th>\n",
       "      <td>...</td>\n",
       "      <td>...</td>\n",
       "      <td>...</td>\n",
       "      <td>...</td>\n",
       "      <td>...</td>\n",
       "    </tr>\n",
       "    <tr>\n",
       "      <th>video</th>\n",
       "      <td>0.000000</td>\n",
       "      <td>0.000000</td>\n",
       "      <td>0.170747</td>\n",
       "      <td>0.000000</td>\n",
       "      <td>0.000000</td>\n",
       "    </tr>\n",
       "    <tr>\n",
       "      <th>watch</th>\n",
       "      <td>0.000000</td>\n",
       "      <td>0.000000</td>\n",
       "      <td>0.000000</td>\n",
       "      <td>0.376180</td>\n",
       "      <td>0.000000</td>\n",
       "    </tr>\n",
       "    <tr>\n",
       "      <th>webcam</th>\n",
       "      <td>0.000000</td>\n",
       "      <td>0.000000</td>\n",
       "      <td>0.000000</td>\n",
       "      <td>0.269277</td>\n",
       "      <td>0.000000</td>\n",
       "    </tr>\n",
       "    <tr>\n",
       "      <th>within</th>\n",
       "      <td>0.221874</td>\n",
       "      <td>0.000000</td>\n",
       "      <td>0.000000</td>\n",
       "      <td>0.000000</td>\n",
       "      <td>0.000000</td>\n",
       "    </tr>\n",
       "    <tr>\n",
       "      <th>youjizz</th>\n",
       "      <td>0.000000</td>\n",
       "      <td>0.000000</td>\n",
       "      <td>0.466176</td>\n",
       "      <td>0.000000</td>\n",
       "      <td>0.000000</td>\n",
       "    </tr>\n",
       "  </tbody>\n",
       "</table>\n",
       "<p>69 rows × 5 columns</p>\n",
       "</div>"
      ],
      "text/plain": [
       "                0         48        137       140       77 \n",
       "accredit   0.000000  0.295069  0.000000  0.000000  0.000000\n",
       "align      0.000000  0.295069  0.000000  0.000000  0.000000\n",
       "bachelor   0.221874  0.000000  0.000000  0.000000  0.000000\n",
       "bantu      0.000000  0.000000  0.000000  0.000000  0.180557\n",
       "broadcast  0.000000  0.000000  0.000000  0.352366  0.000000\n",
       "...             ...       ...       ...       ...       ...\n",
       "video      0.000000  0.000000  0.170747  0.000000  0.000000\n",
       "watch      0.000000  0.000000  0.000000  0.376180  0.000000\n",
       "webcam     0.000000  0.000000  0.000000  0.269277  0.000000\n",
       "within     0.221874  0.000000  0.000000  0.000000  0.000000\n",
       "youjizz    0.000000  0.000000  0.466176  0.000000  0.000000\n",
       "\n",
       "[69 rows x 5 columns]"
      ]
     },
     "execution_count": 60,
     "metadata": {},
     "output_type": "execute_result"
    }
   ],
   "source": [
    "# sample data untuk contoh\n",
    "mask = df_tfidf_desc_train_chosen != 0\n",
    "mask = (df_tfidf_desc_train_chosen != 0).apply(any, axis=1)\n",
    "helper_to_csv_dtdt = df_tfidf_desc_train_chosen[mask]\n",
    "helper_to_csv_dtdt"
   ]
  },
  {
   "cell_type": "code",
   "execution_count": 61,
   "metadata": {},
   "outputs": [],
   "source": [
    "# simpan sample data untuk contoh\n",
    "helper_to_csv_dtdt.to_csv('data\\5_data_modeling\\data_tfidf\\5000_best\\chosen_tfidf_desc_v02_5000best.csv')"
   ]
  },
  {
   "cell_type": "markdown",
   "metadata": {},
   "source": [
    "-----------------------------"
   ]
  },
  {
   "cell_type": "markdown",
   "metadata": {},
   "source": [
    "Modeling"
   ]
  },
  {
   "cell_type": "code",
   "execution_count": 40,
   "metadata": {},
   "outputs": [],
   "source": [
    "#Importing libraries\n",
    "from sklearn.svm import SVC\n",
    "from sklearn.pipeline import Pipeline\n",
    "from sklearn.feature_extraction.text import CountVectorizer\n",
    "from sklearn.model_selection import train_test_split\n",
    "from sklearn.metrics import classification_report\n",
    "from sklearn.linear_model import SGDClassifier\n",
    "\n",
    "#Defining input and target variable\n",
    "x_desc = tfidf_desc_train_matrix\n",
    "x_title = tfidf_title_train_matrix\n",
    "y = dataset_train.label"
   ]
  },
  {
   "cell_type": "code",
   "execution_count": 41,
   "metadata": {},
   "outputs": [
    {
     "name": "stdout",
     "output_type": "stream",
     "text": [
      "x_desc  : (262, 1393)\n",
      "x_title : (262, 667)\n",
      "y       : (262,)\n"
     ]
    }
   ],
   "source": [
    "print('''x_desc  : {}\n",
    "x_title : {}\n",
    "y       : {}'''.format(x_desc.get_shape(),x_title.get_shape(),y.shape))"
   ]
  },
  {
   "cell_type": "code",
   "execution_count": 42,
   "metadata": {},
   "outputs": [
    {
     "name": "stdout",
     "output_type": "stream",
     "text": [
      "              precision    recall  f1-score   support\n",
      "\n",
      "        aman       0.97      1.00      0.98        30\n",
      "   berbahaya       1.00      0.96      0.98        23\n",
      "\n",
      "    accuracy                           0.98        53\n",
      "   macro avg       0.98      0.98      0.98        53\n",
      "weighted avg       0.98      0.98      0.98        53\n",
      "\n"
     ]
    }
   ],
   "source": [
    "# training desc model\n",
    "x_desc_train, x_desc_val, y_train, y_val = train_test_split(x_desc, y, test_size = 0.2, random_state = 14)\n",
    "SVM_desc = SGDClassifier(loss='hinge')\n",
    "SVM_desc.fit(x_desc_train, y_train)\n",
    "#perform classification and prediction on samples in tf_test\n",
    "predicted_SVM_desc = SVM_desc.predict(x_desc_val)\n",
    "print(classification_report(y_val, predicted_SVM_desc))"
   ]
  },
  {
   "cell_type": "code",
   "execution_count": 43,
   "metadata": {},
   "outputs": [
    {
     "name": "stdout",
     "output_type": "stream",
     "text": [
      "              precision    recall  f1-score   support\n",
      "\n",
      "        aman       0.87      0.90      0.89        30\n",
      "   berbahaya       0.86      0.83      0.84        23\n",
      "\n",
      "    accuracy                           0.87        53\n",
      "   macro avg       0.87      0.86      0.86        53\n",
      "weighted avg       0.87      0.87      0.87        53\n",
      "\n"
     ]
    }
   ],
   "source": [
    "# training desc model\n",
    "x_title_train, x_title_val, y_train, y_val = train_test_split(x_title, y, test_size = 0.2, random_state = 14)\n",
    "SVM_title = SGDClassifier(loss='hinge')\n",
    "SVM_title.fit(x_title_train, y_train)\n",
    "#perform classification and prediction on samples in tf_test\n",
    "predicted_SVM_title = SVM_title.predict(x_title_val)\n",
    "print(classification_report(y_val, predicted_SVM_title))"
   ]
  },
  {
   "cell_type": "code",
   "execution_count": 44,
   "metadata": {},
   "outputs": [
    {
     "name": "stderr",
     "output_type": "stream",
     "text": [
      "c:\\Users\\binta\\anaconda3\\lib\\site-packages\\sklearn\\utils\\deprecation.py:87: FutureWarning: Function get_feature_names is deprecated; get_feature_names is deprecated in 1.0 and will be removed in 1.2. Please use get_feature_names_out instead.\n",
      "  warnings.warn(msg, category=FutureWarning)\n"
     ]
    }
   ],
   "source": [
    "#weight print desc\n",
    "feature_names_desc = vect_desc.get_feature_names()\n",
    "corpus_index = ['weight']\n",
    "df_svm_desc_weight = pd.DataFrame(SVM_desc.coef_.T, index=feature_names_desc, columns=corpus_index)\n",
    "df_svm_desc_weight.to_csv(r'data\\5_data_modeling\\data_weight/svm_sgd_desc_weight.csv')"
   ]
  },
  {
   "cell_type": "code",
   "execution_count": 45,
   "metadata": {},
   "outputs": [],
   "source": [
    "#weight print title\n",
    "feature_names_title = vect_title.get_feature_names()\n",
    "corpus_index = ['weight']\n",
    "df_svm_title_weight = pd.DataFrame(SVM_title.coef_.T, index=feature_names_title, columns=corpus_index)\n",
    "df_svm_title_weight.to_csv(r'data\\5_data_modeling\\data_weight/svm_sgd_title_weight.csv')"
   ]
  },
  {
   "cell_type": "code",
   "execution_count": 75,
   "metadata": {},
   "outputs": [
    {
     "data": {
      "text/plain": [
       "['saved_model/vect_title.pkl']"
      ]
     },
     "execution_count": 75,
     "metadata": {},
     "output_type": "execute_result"
    }
   ],
   "source": [
    "# vect_desc.transform(dataset_train['description'].to_list())\n",
    "\n",
    "#save model \n",
    "import joblib \n",
    "\n",
    "joblib.dump(SVM_desc, 'saved_model/SVM_desc.pkl')\n",
    "joblib.dump(SVM_title, 'saved_model/SVM_title.pkl')\n",
    "joblib.dump(vect_desc, 'saved_model/vect_desc.pkl')\n",
    "joblib.dump(vect_title, 'saved_model/vect_title.pkl')"
   ]
  },
  {
   "cell_type": "markdown",
   "metadata": {},
   "source": [
    "----"
   ]
  },
  {
   "cell_type": "markdown",
   "metadata": {},
   "source": [
    "Predict New Data"
   ]
  },
  {
   "cell_type": "code",
   "execution_count": 46,
   "metadata": {},
   "outputs": [],
   "source": [
    "x_desc_test = tfidf_desc_test_matrix\n",
    "x_title_test = tfidf_title_test_matrix"
   ]
  },
  {
   "cell_type": "code",
   "execution_count": 47,
   "metadata": {},
   "outputs": [],
   "source": [
    "predicted_test_desc = SVM_desc.predict(x_desc_test)\n",
    "decfunc_test_desc = SVM_desc.decision_function(x_desc_test)\n",
    "predicted_test_title = SVM_title.predict(x_title_test)\n",
    "decfunc_test_title= SVM_title.decision_function(x_title_test)"
   ]
  },
  {
   "cell_type": "code",
   "execution_count": 48,
   "metadata": {},
   "outputs": [],
   "source": [
    "dataset_test['SVM_desc_label'] = predicted_test_desc\n",
    "dataset_test['SVM_desc_decfunc'] = decfunc_test_desc*-1\n",
    "dataset_test['SVM_title_label'] = predicted_test_title\n",
    "dataset_test['SVM_title_decfunc'] = decfunc_test_title*-1"
   ]
  },
  {
   "cell_type": "code",
   "execution_count": 71,
   "metadata": {},
   "outputs": [],
   "source": [
    "def decfunc_final(x):\n",
    "    desc_decfunc_value = 0.98/1.85\n",
    "    title_decfunc_value = 0.87/1.85\n",
    "    return x['SVM_desc_decfunc'] * desc_decfunc_value + x['SVM_title_decfunc'] * title_decfunc_value "
   ]
  },
  {
   "cell_type": "code",
   "execution_count": 72,
   "metadata": {},
   "outputs": [],
   "source": [
    "dataset_test['FINAL_decfunc'] = dataset_test.apply(decfunc_final, axis=1)"
   ]
  },
  {
   "cell_type": "code",
   "execution_count": 73,
   "metadata": {},
   "outputs": [],
   "source": [
    "dataset_test['FINAL_label'] = dataset_test['FINAL_decfunc'].apply(lambda x: \"aman\" if  x > 0 else \"berbahaya\" ) "
   ]
  },
  {
   "cell_type": "code",
   "execution_count": 74,
   "metadata": {},
   "outputs": [],
   "source": [
    "dataset_test.to_csv(r'data\\5_data_modeling\\data_hasil_predict/hasil_sistem_dodo_b0_c00.csv',index= False)"
   ]
  },
  {
   "cell_type": "markdown",
   "metadata": {},
   "source": [
    "---"
   ]
  }
 ],
 "metadata": {
  "kernelspec": {
   "display_name": "Python 3.8.5 ('base')",
   "language": "python",
   "name": "python3"
  },
  "language_info": {
   "codemirror_mode": {
    "name": "ipython",
    "version": 3
   },
   "file_extension": ".py",
   "mimetype": "text/x-python",
   "name": "python",
   "nbconvert_exporter": "python",
   "pygments_lexer": "ipython3",
   "version": "3.8.5"
  },
  "orig_nbformat": 4,
  "vscode": {
   "interpreter": {
    "hash": "343f3d274de0554954cf955edb183fdc0cc62c5d26a777b2092a313e42e0680b"
   }
  }
 },
 "nbformat": 4,
 "nbformat_minor": 2
}
