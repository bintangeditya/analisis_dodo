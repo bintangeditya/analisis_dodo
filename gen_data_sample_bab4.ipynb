{
 "cells": [
  {
   "cell_type": "code",
   "execution_count": 1,
   "metadata": {},
   "outputs": [],
   "source": [
    "import pandas as pd"
   ]
  },
  {
   "cell_type": "code",
   "execution_count": 8,
   "metadata": {},
   "outputs": [],
   "source": [
    "df4 = pd.read_csv(r'data\\4_data_preprocessing\\5000_best\\p4_v02_5000best.csv', index_col = 0)"
   ]
  },
  {
   "cell_type": "code",
   "execution_count": 10,
   "metadata": {},
   "outputs": [
    {
     "data": {
      "text/html": [
       "<div>\n",
       "<style scoped>\n",
       "    .dataframe tbody tr th:only-of-type {\n",
       "        vertical-align: middle;\n",
       "    }\n",
       "\n",
       "    .dataframe tbody tr th {\n",
       "        vertical-align: top;\n",
       "    }\n",
       "\n",
       "    .dataframe thead th {\n",
       "        text-align: right;\n",
       "    }\n",
       "</style>\n",
       "<table border=\"1\" class=\"dataframe\">\n",
       "  <thead>\n",
       "    <tr style=\"text-align: right;\">\n",
       "      <th></th>\n",
       "      <th>url</th>\n",
       "      <th>description</th>\n",
       "      <th>title</th>\n",
       "      <th>label</th>\n",
       "      <th>description_p4</th>\n",
       "      <th>title_p4</th>\n",
       "    </tr>\n",
       "  </thead>\n",
       "  <tbody>\n",
       "    <tr>\n",
       "      <th>0</th>\n",
       "      <td>https://unt.edu</td>\n",
       "      <td>UNT is a student-focused, public, research uni...</td>\n",
       "      <td>University of North Texas</td>\n",
       "      <td>aman</td>\n",
       "      <td>['unt', 'student', 'focus', 'public', 'researc...</td>\n",
       "      <td>['university', 'north', 'texas']</td>\n",
       "    </tr>\n",
       "    <tr>\n",
       "      <th>1</th>\n",
       "      <td>https://discovermagazine.com</td>\n",
       "      <td>Discover satisfies everyday curiosity with rel...</td>\n",
       "      <td>Discover Magazine</td>\n",
       "      <td>aman</td>\n",
       "      <td>['discover', 'satisfies', 'everyday', 'curiosi...</td>\n",
       "      <td>['discover', 'magazine']</td>\n",
       "    </tr>\n",
       "    <tr>\n",
       "      <th>2</th>\n",
       "      <td>https://caranddriver.com</td>\n",
       "      <td>Covering the automotive industry since 1955 wi...</td>\n",
       "      <td>Car and Driver: New Car Reviews, Buying Advice...</td>\n",
       "      <td>aman</td>\n",
       "      <td>['cover', 'automotive', 'industry', 'since', '...</td>\n",
       "      <td>['car', 'driver', 'new', 'car', 'review', 'buy...</td>\n",
       "    </tr>\n",
       "    <tr>\n",
       "      <th>3</th>\n",
       "      <td>https://allstate.com</td>\n",
       "      <td>Get auto insurance quotes at Allstate.com. You...</td>\n",
       "      <td>Allstate Insurance Company | You're in good hands</td>\n",
       "      <td>aman</td>\n",
       "      <td>['get', 'auto', 'insurance', 'quote', 'allstat...</td>\n",
       "      <td>['allstate', 'insurance', 'company', 'good', '...</td>\n",
       "    </tr>\n",
       "    <tr>\n",
       "      <th>4</th>\n",
       "      <td>https://oregonstate.edu</td>\n",
       "      <td>Oregon State University continues to advance i...</td>\n",
       "      <td>Oregon State University</td>\n",
       "      <td>aman</td>\n",
       "      <td>['oregon', 'state', 'university', 'continue', ...</td>\n",
       "      <td>['oregon', 'state', 'university']</td>\n",
       "    </tr>\n",
       "  </tbody>\n",
       "</table>\n",
       "</div>"
      ],
      "text/plain": [
       "                            url  \\\n",
       "0               https://unt.edu   \n",
       "1  https://discovermagazine.com   \n",
       "2      https://caranddriver.com   \n",
       "3          https://allstate.com   \n",
       "4       https://oregonstate.edu   \n",
       "\n",
       "                                         description  \\\n",
       "0  UNT is a student-focused, public, research uni...   \n",
       "1  Discover satisfies everyday curiosity with rel...   \n",
       "2  Covering the automotive industry since 1955 wi...   \n",
       "3  Get auto insurance quotes at Allstate.com. You...   \n",
       "4  Oregon State University continues to advance i...   \n",
       "\n",
       "                                               title label  \\\n",
       "0                          University of North Texas  aman   \n",
       "1                                  Discover Magazine  aman   \n",
       "2  Car and Driver: New Car Reviews, Buying Advice...  aman   \n",
       "3  Allstate Insurance Company | You're in good hands  aman   \n",
       "4                            Oregon State University  aman   \n",
       "\n",
       "                                      description_p4  \\\n",
       "0  ['unt', 'student', 'focus', 'public', 'researc...   \n",
       "1  ['discover', 'satisfies', 'everyday', 'curiosi...   \n",
       "2  ['cover', 'automotive', 'industry', 'since', '...   \n",
       "3  ['get', 'auto', 'insurance', 'quote', 'allstat...   \n",
       "4  ['oregon', 'state', 'university', 'continue', ...   \n",
       "\n",
       "                                            title_p4  \n",
       "0                   ['university', 'north', 'texas']  \n",
       "1                           ['discover', 'magazine']  \n",
       "2  ['car', 'driver', 'new', 'car', 'review', 'buy...  \n",
       "3  ['allstate', 'insurance', 'company', 'good', '...  \n",
       "4                  ['oregon', 'state', 'university']  "
      ]
     },
     "execution_count": 10,
     "metadata": {},
     "output_type": "execute_result"
    }
   ],
   "source": [
    "df4.head()"
   ]
  },
  {
   "cell_type": "code",
   "execution_count": 11,
   "metadata": {},
   "outputs": [],
   "source": [
    "def restring(s):\n",
    "    s = s[2:-2]\n",
    "    s = s.split(\"', '\")\n",
    "    s = \" \".join(s)\n",
    "    return s"
   ]
  },
  {
   "cell_type": "code",
   "execution_count": 12,
   "metadata": {},
   "outputs": [],
   "source": [
    "df4['desc_p'] = df4.description_p4.apply(restring)"
   ]
  },
  {
   "cell_type": "code",
   "execution_count": 13,
   "metadata": {},
   "outputs": [],
   "source": [
    "df4['title_p'] = df4.title_p4.apply(restring)"
   ]
  },
  {
   "cell_type": "code",
   "execution_count": 14,
   "metadata": {},
   "outputs": [],
   "source": [
    "df4.to_csv('sample_bab4.csv')"
   ]
  }
 ],
 "metadata": {
  "kernelspec": {
   "display_name": "Python 3.8.5 ('base')",
   "language": "python",
   "name": "python3"
  },
  "language_info": {
   "codemirror_mode": {
    "name": "ipython",
    "version": 3
   },
   "file_extension": ".py",
   "mimetype": "text/x-python",
   "name": "python",
   "nbconvert_exporter": "python",
   "pygments_lexer": "ipython3",
   "version": "3.8.5"
  },
  "orig_nbformat": 4,
  "vscode": {
   "interpreter": {
    "hash": "343f3d274de0554954cf955edb183fdc0cc62c5d26a777b2092a313e42e0680b"
   }
  }
 },
 "nbformat": 4,
 "nbformat_minor": 2
}
